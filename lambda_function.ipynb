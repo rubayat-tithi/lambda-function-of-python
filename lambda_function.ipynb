#normal_python_function
def test(x):
  return x
  
#lambda_function
lambda x: x

#adding_5_to_lambda_function
lambda x: x + 5

(lambda x: x + 5)(2)

#add_a_function_name
add = lambda x: x + 5
add(2)

#above_code_is_same_as_below_code
def add_one(x):
    return x + 1
